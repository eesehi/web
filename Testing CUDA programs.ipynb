{
  "cells": [
    {
      "cell_type": "markdown",
      "metadata": {
        "id": "view-in-github",
        "colab_type": "text"
      },
      "source": [
        "<a href=\"https://colab.research.google.com/github/eesehi/web/blob/master/Testing%20CUDA%20programs.ipynb\" target=\"_parent\"><img src=\"https://colab.research.google.com/assets/colab-badge.svg\" alt=\"Open In Colab\"/></a>"
      ]
    },
    {
      "cell_type": "markdown",
      "metadata": {
        "id": "Nma_JWh-W-IF"
      },
      "source": [
        ""
      ]
    },
    {
      "cell_type": "code",
      "source": [
        "!nvcc --version"
      ],
      "metadata": {
        "id": "wdM0My2ONNVT",
        "outputId": "98acb991-7dd7-41e3-9d8a-cdf56a783d5e",
        "colab": {
          "base_uri": "https://localhost:8080/"
        }
      },
      "execution_count": 2,
      "outputs": [
        {
          "output_type": "stream",
          "name": "stdout",
          "text": [
            "nvcc: NVIDIA (R) Cuda compiler driver\n",
            "Copyright (c) 2005-2020 NVIDIA Corporation\n",
            "Built on Mon_Oct_12_20:09:46_PDT_2020\n",
            "Cuda compilation tools, release 11.1, V11.1.105\n",
            "Build cuda_11.1.TC455_06.29190527_0\n"
          ]
        }
      ]
    },
    {
      "cell_type": "code",
      "source": [
        "!nvcc 1d.cu && ./a.out"
      ],
      "metadata": {
        "id": "_gYpxlFNNRNM",
        "outputId": "73a890a5-627b-4860-cae4-b0ff8a71f580",
        "colab": {
          "base_uri": "https://localhost:8080/"
        }
      },
      "execution_count": 11,
      "outputs": [
        {
          "output_type": "stream",
          "name": "stdout",
          "text": [
            "\n",
            "Sum of two arrays:\n",
            " 3\t5\t7\t9\t11\t13\t"
          ]
        }
      ]
    },
    {
      "cell_type": "code",
      "source": [
        "!nvcc add.cu && ./a.out"
      ],
      "metadata": {
        "id": "dhBTbhBLNkYz",
        "outputId": "00f5a324-6820-40a3-9a42-6bcb26280229",
        "colab": {
          "base_uri": "https://localhost:8080/"
        }
      },
      "execution_count": 8,
      "outputs": [
        {
          "output_type": "stream",
          "name": "stdout",
          "text": [
            "9"
          ]
        }
      ]
    },
    {
      "cell_type": "code",
      "source": [
        "!nvcc addmtrix.cu && ./a.out"
      ],
      "metadata": {
        "id": "AfhWJGLJNokq",
        "outputId": "dd060276-ae43-48e8-e82c-746123b9afc3",
        "colab": {
          "base_uri": "https://localhost:8080/"
        }
      },
      "execution_count": 9,
      "outputs": [
        {
          "output_type": "stream",
          "name": "stdout",
          "text": [
            "\n",
            " Enter elements of first matrix of size 2 * 3\n",
            "1 2 3\n",
            "4 5 6\n",
            "\n",
            " Enter elements of second matrix of size 2 * 3\n",
            "4 5 6\n",
            "3 2 1\n",
            "\n",
            "Sum of two matrices:\n",
            " 5\t7\t9\t\n",
            "7\t7\t7\t\n"
          ]
        }
      ]
    },
    {
      "cell_type": "code",
      "source": [
        "!nvcc ccg.cu && ./a.out"
      ],
      "metadata": {
        "id": "IR3XWqk-N07x",
        "outputId": "e7c0157a-0d86-4688-9a07-51924d8b0df1",
        "colab": {
          "base_uri": "https://localhost:8080/"
        }
      },
      "execution_count": 10,
      "outputs": [
        {
          "output_type": "stream",
          "name": "stdout",
          "text": [
            "Name of GPU on your system is Tesla T4\n",
            "\n",
            " Compute Capability of a current GPU on your system is 7.5"
          ]
        }
      ]
    }
  ],
  "metadata": {
    "colab": {
      "collapsed_sections": [],
      "name": "Welcome To Colaboratory",
      "provenance": [],
      "include_colab_link": true
    },
    "kernelspec": {
      "display_name": "Python 3",
      "name": "python3"
    },
    "accelerator": "GPU"
  },
  "nbformat": 4,
  "nbformat_minor": 0
}